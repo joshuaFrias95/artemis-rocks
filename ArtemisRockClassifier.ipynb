{
 "cells": [
  {
   "cell_type": "code",
   "execution_count": 40,
   "metadata": {},
   "outputs": [
    {
     "name": "stdout",
     "output_type": "stream",
     "text": [
      "Artemis Rover Rock Sanner Starting\n"
     ]
    }
   ],
   "source": [
    "#Generamos las variables para cada roca que vamos a clasificar\n",
    "basalt = 0\n",
    "breccia = 0\n",
    "highland = 0\n",
    "regolith = 0\n",
    "rockList = []\n"
   ]
  },
  {
   "cell_type": "code",
   "execution_count": 41,
   "metadata": {},
   "outputs": [],
   "source": [
    "# Agregamos el archivo .txt con los datos a una variable\n",
    "# Posteriormente encapsulamos la variable con los datos en otra en donde la abrimos y le damos permisos de escritura\n",
    "# Agregamos elementos y posteriormente cerramos\n",
    "strPath = \"rocks.txt\"\n",
    "fileObject = open(strPath, \"w\")\n",
    "fileObject.writelines([\"Reading Rocks\\n\",\"basalt\\n\",\"breccia\\n\",\"highland\\n\",\"regolith\\n\",\"highland\\n\",\"breccia\\n\",\"highland\\n\",\"regolith\\n\",\"regolith\\n\",\"basalt\\n\",\"highland\\n\",\"basalt\\n\",\"breccia\\n\",\"breccia\\n\",\"regolith\\n\",\"breccia\\n\",\"highland\\n\",\"highland\\n\",\"breccia\\n\",\"basalt\\n\"])\n",
    "fileObject.close()"
   ]
  },
  {
   "cell_type": "code",
   "execution_count": 42,
   "metadata": {},
   "outputs": [
    {
     "name": "stdout",
     "output_type": "stream",
     "text": [
      "Reading Rocks\n",
      "\n"
     ]
    }
   ],
   "source": [
    "# Reutilizamos esa misma variable para abrir el archivo de datos, esta vez para almacenar solamente una línea\n",
    "fileObject = open(strPath)\n",
    "line = fileObject.readline()\n",
    "print(line)"
   ]
  },
  {
   "cell_type": "code",
   "execution_count": 43,
   "metadata": {},
   "outputs": [
    {
     "name": "stdout",
     "output_type": "stream",
     "text": [
      "basalt\n",
      "\n",
      "breccia\n",
      "\n",
      "highland\n",
      "\n",
      "regolith\n",
      "\n",
      "highland\n",
      "\n",
      "breccia\n",
      "\n",
      "highland\n",
      "\n",
      "regolith\n",
      "\n",
      "regolith\n",
      "\n",
      "basalt\n",
      "\n",
      "highland\n",
      "\n",
      "basalt\n",
      "\n",
      "breccia\n",
      "\n",
      "breccia\n",
      "\n",
      "regolith\n",
      "\n",
      "breccia\n",
      "\n",
      "highland\n",
      "\n",
      "highland\n",
      "\n",
      "breccia\n",
      "\n",
      "basalt\n",
      "\n"
     ]
    }
   ],
   "source": [
    "# Ahora leemos todas las lineas y las englobamos en una sola variable\n",
    "# Utilizamos el ciclo for para imprimir todos los elementos\n",
    "# Al terminar nuevamente cerramos  la manipulación del archivo\n",
    "rockList = fileObject.readlines()\n",
    "\n",
    "for rock in rockList:\n",
    "    print(rock)\n",
    "\n",
    "fileObject.close()"
   ]
  },
  {
   "cell_type": "code",
   "execution_count": 44,
   "metadata": {},
   "outputs": [],
   "source": [
    "# Generamos una función en donde nuestras variables originales pasan como globales\n",
    "# transformamos la información que entre como rockToID a minúsculas\n",
    "# con condicionales if y else if damos aviso sobre descubrimientos y agregamos elemento a las variables correspondientes\n",
    "def countMoonRocks(rockToID):\n",
    "    global basalt\n",
    "    global breccia\n",
    "    global highland\n",
    "    global regolith\n",
    "\n",
    "    rockToID = rockToID.lower()\n",
    "\n",
    "    if (\"basalt\" in rockToID):\n",
    "        print(\"Found Basalt\\n\")\n",
    "        basalt += 1\n",
    "\n",
    "    elif (\"breccia\" in rockToID):\n",
    "        print(\"Found Breccia\\n\")\n",
    "        breccia += 1\n",
    "\n",
    "    elif (\"highland\" in rockToID):\n",
    "        print(\"Found Highland\")\n",
    "        highland += 1\n",
    "\n",
    "    elif (\"regolith\" in rockToID):\n",
    "        print(\"Found Regolith\\n\")\n",
    "        regolith += 1\n",
    "        \n",
    "    return"
   ]
  },
  {
   "cell_type": "code",
   "execution_count": 45,
   "metadata": {},
   "outputs": [
    {
     "name": "stdout",
     "output_type": "stream",
     "text": [
      "Found Basalt\n",
      "\n",
      "Found Breccia\n",
      "\n",
      "Found Highland\n",
      "Found Regolith\n",
      "\n",
      "Found Highland\n",
      "Found Breccia\n",
      "\n",
      "Found Highland\n",
      "Found Regolith\n",
      "\n",
      "Found Regolith\n",
      "\n",
      "Found Basalt\n",
      "\n",
      "Found Highland\n",
      "Found Basalt\n",
      "\n",
      "Found Breccia\n",
      "\n",
      "Found Breccia\n",
      "\n",
      "Found Regolith\n",
      "\n",
      "Found Breccia\n",
      "\n",
      "Found Highland\n",
      "Found Highland\n",
      "Found Breccia\n",
      "\n",
      "Found Basalt\n",
      "\n"
     ]
    }
   ],
   "source": [
    "# Imprimimos esos mensajes\n",
    "for rock in rockList:\n",
    "    countMoonRocks(rock)"
   ]
  },
  {
   "cell_type": "code",
   "execution_count": 53,
   "metadata": {},
   "outputs": [
    {
     "name": "stdout",
     "output_type": "stream",
     "text": [
      "Artemis Rover Rock Sanner Starting\n",
      "\n",
      "Number of Basalt:  4\n",
      "Number of Breccia:  6\n",
      "Number of Highland:  6\n",
      "Number of Regolith:  4\n",
      "\n",
      "The max number of one type of rock found was: 6\n",
      "The minimum number of one type of rock found was: 4\n"
     ]
    }
   ],
   "source": [
    "# Imprimimos el resultado final junto con el número mínimo y máximo encontrado\n",
    "\n",
    "print(\"Artemis Rover Rock Sanner Starting\\n\")\n",
    "print(\"Number of Basalt: \", basalt)\n",
    "print(\"Number of Breccia: \", breccia)\n",
    "print(\"Number of Highland: \", highland)\n",
    "print(\"Number of Regolith: \", regolith)\n",
    "\n",
    "print(\"\\nThe max number of one type of rock found was:\", max(basalt, breccia, highland, regolith))\n",
    "print(\"The minimum number of one type of rock found was:\", min(basalt, breccia, highland, regolith))"
   ]
  }
 ],
 "metadata": {
  "kernelspec": {
   "display_name": "Python 3",
   "language": "python",
   "name": "python3"
  },
  "language_info": {
   "codemirror_mode": {
    "name": "ipython",
    "version": 3
   },
   "file_extension": ".py",
   "mimetype": "text/x-python",
   "name": "python",
   "nbconvert_exporter": "python",
   "pygments_lexer": "ipython3",
   "version": "3.10.10"
  },
  "orig_nbformat": 4
 },
 "nbformat": 4,
 "nbformat_minor": 2
}
