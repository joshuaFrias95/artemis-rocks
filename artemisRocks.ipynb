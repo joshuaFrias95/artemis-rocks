{
 "cells": [
  {
   "cell_type": "code",
   "execution_count": 2,
   "metadata": {},
   "outputs": [
    {
     "data": {
      "text/plain": [
       "'Hello World'"
      ]
     },
     "execution_count": 2,
     "metadata": {},
     "output_type": "execute_result"
    }
   ],
   "source": [
    "\"Hello World\""
   ]
  },
  {
   "cell_type": "code",
   "execution_count": 3,
   "metadata": {},
   "outputs": [
    {
     "data": {
      "text/plain": [
       "'Esto no es un comentario'"
      ]
     },
     "execution_count": 3,
     "metadata": {},
     "output_type": "execute_result"
    }
   ],
   "source": [
    "# Esto es un comentario\n",
    "\"Esto no es un comentario\""
   ]
  },
  {
   "cell_type": "code",
   "execution_count": 1,
   "metadata": {},
   "outputs": [
    {
     "data": {
      "text/plain": [
       "4"
      ]
     },
     "execution_count": 1,
     "metadata": {},
     "output_type": "execute_result"
    }
   ],
   "source": [
    "2+2"
   ]
  },
  {
   "cell_type": "code",
   "execution_count": 4,
   "metadata": {},
   "outputs": [
    {
     "data": {
      "text/plain": [
       "9"
      ]
     },
     "execution_count": 4,
     "metadata": {},
     "output_type": "execute_result"
    }
   ],
   "source": [
    "3 ** 2 # Uso de exponentes"
   ]
  },
  {
   "cell_type": "code",
   "execution_count": 8,
   "metadata": {},
   "outputs": [
    {
     "data": {
      "text/plain": [
       "2"
      ]
     },
     "execution_count": 8,
     "metadata": {},
     "output_type": "execute_result"
    }
   ],
   "source": [
    "5 // 2  # División que nos retorna un valor SIN decimales\n"
   ]
  },
  {
   "cell_type": "code",
   "execution_count": 7,
   "metadata": {},
   "outputs": [
    {
     "data": {
      "text/plain": [
       "2.5"
      ]
     },
     "execution_count": 7,
     "metadata": {},
     "output_type": "execute_result"
    }
   ],
   "source": [
    "5 / 2 # División que nos retorna un valor CON decimales"
   ]
  },
  {
   "attachments": {},
   "cell_type": "markdown",
   "metadata": {},
   "source": [
    "Manejo de Strings"
   ]
  },
  {
   "cell_type": "code",
   "execution_count": null,
   "metadata": {},
   "outputs": [],
   "source": []
  },
  {
   "cell_type": "code",
   "execution_count": 10,
   "metadata": {},
   "outputs": [
    {
     "data": {
      "text/plain": [
       "'STANLEY G LOVE'"
      ]
     },
     "execution_count": 10,
     "metadata": {},
     "output_type": "execute_result"
    }
   ],
   "source": [
    "astronaut = \"Stanley G Love\"\n",
    "uppercase = astronaut.upper() # El método upper() nos permite manipular un string y pasarlo a mayúsculas\n",
    "uppercase"
   ]
  },
  {
   "cell_type": "code",
   "execution_count": 11,
   "metadata": {},
   "outputs": [
    {
     "data": {
      "text/plain": [
       "'stanley g love'"
      ]
     },
     "execution_count": 11,
     "metadata": {},
     "output_type": "execute_result"
    }
   ],
   "source": [
    "astronaut = \"Stanley G Love\"\n",
    "lowercase = astronaut.lower() # El método lower() nos permite manipular un string y pasarlo a minúsculas\n",
    "lowercase"
   ]
  },
  {
   "cell_type": "code",
   "execution_count": 12,
   "metadata": {},
   "outputs": [
    {
     "data": {
      "text/plain": [
       "'Rocket is a launch!'"
      ]
     },
     "execution_count": 12,
     "metadata": {},
     "output_type": "execute_result"
    }
   ],
   "source": [
    "rocketOutput = \"rOckEt iS A laUncH!\"\n",
    "rocketOutput.capitalize() # El método capitalize() nos permite manipular un string y hacer mayúscula SOLAMETE la primera letra del string y minúsculas todas las demás"
   ]
  },
  {
   "cell_type": "code",
   "execution_count": 13,
   "metadata": {},
   "outputs": [
    {
     "data": {
      "text/plain": [
       "'beep beep beep beep beep beep '"
      ]
     },
     "execution_count": 13,
     "metadata": {},
     "output_type": "execute_result"
    }
   ],
   "source": [
    "artemisRoverSounds = \"beep beep \" # Podemos repetir el contenido de un string al multiplicar por un número con *\n",
    "artemisRoverSounds * 3"
   ]
  },
  {
   "attachments": {},
   "cell_type": "markdown",
   "metadata": {},
   "source": [
    "LISTAS"
   ]
  },
  {
   "cell_type": "code",
   "execution_count": 14,
   "metadata": {},
   "outputs": [
    {
     "data": {
      "text/plain": [
       "['basalt', 'highland', 'breccia']"
      ]
     },
     "execution_count": 14,
     "metadata": {},
     "output_type": "execute_result"
    }
   ],
   "source": [
    "# Creando una lista de rocas lunares comunes\n",
    "rockTypes = [\"basalt\", \"highland\", \"breccia\"]\n",
    "rockTypes"
   ]
  },
  {
   "cell_type": "code",
   "execution_count": 15,
   "metadata": {},
   "outputs": [
    {
     "data": {
      "text/plain": [
       "['basalt', 1, 'highland', 2.5, 'breccia', 5]"
      ]
     },
     "execution_count": 15,
     "metadata": {},
     "output_type": "execute_result"
    }
   ],
   "source": [
    "# La misma lista de rocas lunares comúnes pero con su número || Es posible agregar cuaqueir tipo de valor a una lista\n",
    "rockTypeAndCount = [\"basalt\", 1, \"highland\", 2.5, \"breccia\", 5]\n",
    "rockTypeAndCount"
   ]
  },
  {
   "cell_type": "code",
   "execution_count": 16,
   "metadata": {},
   "outputs": [
    {
     "data": {
      "text/plain": [
       "['basalt', 'highland', 'breccia', 'soil']"
      ]
     },
     "execution_count": 16,
     "metadata": {},
     "output_type": "execute_result"
    }
   ],
   "source": [
    "rockTypes.append(\"soil\") # El método append() nos permite agregar elementos a una lista creada\n",
    "rockTypes"
   ]
  },
  {
   "cell_type": "code",
   "execution_count": 18,
   "metadata": {},
   "outputs": [
    {
     "data": {
      "text/plain": [
       "['basalt', 'highland', 'breccia']"
      ]
     },
     "execution_count": 18,
     "metadata": {},
     "output_type": "execute_result"
    }
   ],
   "source": [
    "rockTypes.pop() # El método pop() nos permite eliminar el último elemento de la lista creada\n",
    "rockTypes"
   ]
  },
  {
   "cell_type": "code",
   "execution_count": 19,
   "metadata": {},
   "outputs": [
    {
     "data": {
      "text/plain": [
       "'highland'"
      ]
     },
     "execution_count": 19,
     "metadata": {},
     "output_type": "execute_result"
    }
   ],
   "source": [
    "rockTypes[1] # Al agregar unas llaves con un número dentro a nuestra lista veremos el elemento en ese índice, en este caso, el elemento en el índice 1 es 'highland'"
   ]
  },
  {
   "cell_type": "code",
   "execution_count": 21,
   "metadata": {},
   "outputs": [
    {
     "data": {
      "text/plain": [
       "['basalt', 'highland', 'soil']"
      ]
     },
     "execution_count": 21,
     "metadata": {},
     "output_type": "execute_result"
    }
   ],
   "source": [
    "rockTypes[2] = \"soil\" # Al asignarle un valor a un índice podemos agregar dicho elemento a esa posición específica de la lista\n",
    "rockTypes"
   ]
  },
  {
   "attachments": {},
   "cell_type": "markdown",
   "metadata": {},
   "source": [
    "Método print()"
   ]
  },
  {
   "cell_type": "code",
   "execution_count": 22,
   "metadata": {},
   "outputs": [
    {
     "name": "stdout",
     "output_type": "stream",
     "text": [
      "Hola mundo\n",
      "6\n"
     ]
    }
   ],
   "source": [
    "print(\"Hola mundo\") # Utilizaremos el método print() para imprimir en terminal todo lo que necesitemos\n",
    "print(6)"
   ]
  },
  {
   "cell_type": "code",
   "execution_count": 24,
   "metadata": {},
   "outputs": [
    {
     "name": "stdout",
     "output_type": "stream",
     "text": [
      "On February 26 number of rocks found: 15\n"
     ]
    }
   ],
   "source": [
    "date = \"February 26\"\n",
    "numRocks = 15\n",
    "print(\"On\", date, \"number of rocks found:\", numRocks) # La concatenación en Python se realiza agregando el contenido después de una coma"
   ]
  },
  {
   "attachments": {},
   "cell_type": "markdown",
   "metadata": {},
   "source": [
    "Comparaciones en Python"
   ]
  },
  {
   "cell_type": "code",
   "execution_count": 25,
   "metadata": {},
   "outputs": [
    {
     "name": "stdout",
     "output_type": "stream",
     "text": [
      "True\n",
      "False\n",
      "False\n"
     ]
    }
   ],
   "source": [
    "temp = 50\n",
    "print(temp >= 32) #Resultado esperado: True || 50 es mayor que 32\n",
    "print(temp < 32) #Resultado esperado: False || 50 no es menor que 32\n",
    "print(temp == 32) #Resultado esperado: False || 50 no es lo mismo que 32"
   ]
  },
  {
   "cell_type": "code",
   "execution_count": 27,
   "metadata": {},
   "outputs": [
    {
     "name": "stdout",
     "output_type": "stream",
     "text": [
      "False\n",
      "True\n"
     ]
    }
   ],
   "source": [
    "# Comparamos si dos valores string conforman parte de la variable \"rock\"\n",
    "rock = \"basalt\"\n",
    "print(\"highland\" == rock) #Resultado esperado: False || 'highland' no está dentro de la variable rock\n",
    "print(\"basalt\" == rock) #Resultado esperado: True || 'highland' sí está dentro de la variable rock"
   ]
  },
  {
   "cell_type": "code",
   "execution_count": 29,
   "metadata": {},
   "outputs": [
    {
     "name": "stdout",
     "output_type": "stream",
     "text": [
      "False\n",
      "True\n"
     ]
    }
   ],
   "source": [
    "# Misma comparación pero con método in\n",
    "rock = \"basaltrock\"\n",
    "print(\"highland\" in rock) #Resultado esperado: False || 'highland' no está dentro de la variable rock\n",
    "print(\"basalt\" in rock) #Resultado esperado: True || 'highland' sí está dentro de la variable rock"
   ]
  },
  {
   "attachments": {},
   "cell_type": "markdown",
   "metadata": {},
   "source": [
    "Condicionales"
   ]
  },
  {
   "cell_type": "code",
   "execution_count": 32,
   "metadata": {},
   "outputs": [
    {
     "name": "stdout",
     "output_type": "stream",
     "text": [
      "We have found no basalt rocks.\n",
      "Done checking basalt rocks.\n"
     ]
    }
   ],
   "source": [
    "basalt = 0\n",
    "if(basalt == 0):\n",
    "    print(\"We have found no basalt rocks.\")\n",
    "print(\"Done checking basalt rocks.\")"
   ]
  },
  {
   "cell_type": "code",
   "execution_count": 33,
   "metadata": {},
   "outputs": [
    {
     "name": "stdout",
     "output_type": "stream",
     "text": [
      "Done checking basalt rocks.\n"
     ]
    }
   ],
   "source": [
    "# Sintáxis de if en Python\n",
    "basalt = 1\n",
    "if(basalt == 0):\n",
    "    print(\"We have found no basalt rocks.\")\n",
    "print(\"Done checking basalt rocks.\")"
   ]
  },
  {
   "cell_type": "code",
   "execution_count": 34,
   "metadata": {},
   "outputs": [
    {
     "name": "stdout",
     "output_type": "stream",
     "text": [
      "We have found no basalt rocks.\n",
      "Done checking basalt rocks.\n"
     ]
    }
   ],
   "source": [
    "#Sinyáxis de if y else en python\n",
    "basalt = 0\n",
    "if(basalt == 0):\n",
    "    print(\"We have found no basalt rocks.\")\n",
    "else:\n",
    "    print(\"We found some basalt rocks!\")\n",
    "print(\"Done checking basalt rocks.\")"
   ]
  },
  {
   "cell_type": "code",
   "execution_count": 35,
   "metadata": {},
   "outputs": [
    {
     "name": "stdout",
     "output_type": "stream",
     "text": [
      "We found some basalt rocks!\n",
      "Done checking basalt rocks.\n"
     ]
    }
   ],
   "source": [
    "basalt = 5\n",
    "if(basalt == 0):\n",
    "    print(\"We have found no basalt rocks.\")\n",
    "else:\n",
    "    print(\"We found some basalt rocks!\")\n",
    "print(\"Done checking basalt rocks.\")"
   ]
  },
  {
   "cell_type": "code",
   "execution_count": 37,
   "metadata": {},
   "outputs": [
    {
     "name": "stdout",
     "output_type": "stream",
     "text": [
      "We found exactly 1 basalt rock.\n",
      "Done checking basalt rocks.\n"
     ]
    }
   ],
   "source": [
    "#Sintáxis de else if en Python || else if se escribe elif\n",
    "basalt = 1\n",
    "if(basalt == 0):\n",
    "    print(\"We found no basalt rocks.\")\n",
    "elif(basalt == 1):\n",
    "    print(\"We found exactly 1 basalt rock.\")\n",
    "else:\n",
    "    print(\"We found more than 1 basalt rock!\")\n",
    "print(\"Done checking basalt rocks.\")"
   ]
  },
  {
   "attachments": {},
   "cell_type": "markdown",
   "metadata": {},
   "source": [
    "Ciclo While"
   ]
  },
  {
   "cell_type": "code",
   "execution_count": 38,
   "metadata": {},
   "outputs": [
    {
     "name": "stdout",
     "output_type": "stream",
     "text": [
      "5\n",
      "4\n",
      "3\n",
      "2\n",
      "1\n",
      "0\n",
      "Lift Off\n"
     ]
    }
   ],
   "source": [
    "#Sintáxis ciclo While\n",
    "countdown = 5\n",
    "\n",
    "while countdown >= 0:\n",
    "    print(countdown)\n",
    "    countdown = countdown - 1  \n",
    "print(\"Lift Off\")"
   ]
  },
  {
   "attachments": {},
   "cell_type": "markdown",
   "metadata": {},
   "source": [
    "Ciclo For"
   ]
  },
  {
   "cell_type": "code",
   "execution_count": 41,
   "metadata": {},
   "outputs": [
    {
     "name": "stdout",
     "output_type": "stream",
     "text": [
      "Mars\n",
      "Saturn\n",
      "Jupiter\n"
     ]
    }
   ],
   "source": [
    "#Sintáxis de ciclo FOR\n",
    "planets = \"Mars\", \"Saturn\", \"Jupiter\"\n",
    "\n",
    "for planet in planets:\n",
    "    print(planet)"
   ]
  },
  {
   "attachments": {},
   "cell_type": "markdown",
   "metadata": {},
   "source": [
    "Funciones"
   ]
  },
  {
   "cell_type": "code",
   "execution_count": 42,
   "metadata": {},
   "outputs": [],
   "source": [
    "#Para definir una función utilizamos la palabra reservada def\n",
    "def NameOfFunction():\n",
    "#Es necesario poner la palabra return para que Python sepa que terminó nuestra función\n",
    "  return"
   ]
  },
  {
   "cell_type": "code",
   "execution_count": 43,
   "metadata": {},
   "outputs": [
    {
     "name": "stdout",
     "output_type": "stream",
     "text": [
      "5\n",
      "4\n",
      "3\n",
      "2\n",
      "1\n",
      "Rocket will be launching soon!\n"
     ]
    }
   ],
   "source": [
    "# Definimos la función\n",
    "def OutputRocketText():\n",
    "  print(5)\n",
    "  print(4)\n",
    "  print(3)\n",
    "  print(2)\n",
    "  print(1)\n",
    "  print(\"Rocket will be launching soon!\")\n",
    "  #Cerramos la función\n",
    "  return\n",
    "#Imprimimos la función\n",
    "OutputRocketText()"
   ]
  },
  {
   "attachments": {},
   "cell_type": "markdown",
   "metadata": {},
   "source": [
    "Importar datos de un fichero externo"
   ]
  },
  {
   "cell_type": "code",
   "execution_count": 44,
   "metadata": {},
   "outputs": [],
   "source": [
    "#Agregamos la ruta del fichero a una variable\n",
    "strPath = \"text.txt\""
   ]
  },
  {
   "cell_type": "code",
   "execution_count": 45,
   "metadata": {},
   "outputs": [],
   "source": [
    "# utilizamos la función open() para abrir el archivo, el string \"w\" nos permite tener permisos de edisión del fichero\n",
    "# También encapsulamos esta función en otra variable contenedora.\n",
    "fileObject = open(strPath, \"w\")"
   ]
  },
  {
   "cell_type": "code",
   "execution_count": 47,
   "metadata": {},
   "outputs": [
    {
     "data": {
      "text/plain": [
       "15"
      ]
     },
     "execution_count": 47,
     "metadata": {},
     "output_type": "execute_result"
    }
   ],
   "source": [
    "# con la función write() podemos agregar o escribir contenido dentro de nuestro fichero, utilizamos \\n para dar saltos de linea\n",
    "fileObject.write(\"First Astronaut on the moon\\n\")\n",
    "fileObject.write(\"Neil Armstrong\\n\")"
   ]
  },
  {
   "cell_type": "code",
   "execution_count": 50,
   "metadata": {},
   "outputs": [],
   "source": [
    "# Al terminar de escribir lo que queríamos agregar utilizamos la función .close() para cerrar el espacio de edición\n",
    "# Todo write() que se encuentre fuera del open() o el close() no será guardado\n",
    "fileObject.close()"
   ]
  },
  {
   "cell_type": "code",
   "execution_count": 53,
   "metadata": {},
   "outputs": [],
   "source": [
    "# Para poder leer el contenido de nuestro archivo de texto es necesario primero abrir el fichero\n",
    "fileObject = open(strPath)\n",
    "#Utilizamos la función readlines() que va a almacenar cada línea como un elemento dentro de una lista\n",
    "textList = fileObject.readlines()\n",
    "# Cerramos nuestra lista\n",
    "fileObject.close()"
   ]
  },
  {
   "cell_type": "code",
   "execution_count": 55,
   "metadata": {},
   "outputs": [
    {
     "name": "stdout",
     "output_type": "stream",
     "text": [
      "['First Astronaut on the moon\\n', 'Neil Armstrong\\n', 'First Astronaut on the moon\\n', 'Neil Armstrong\\n']\n",
      "First Astronaut on the moon\n",
      "\n",
      "Neil Armstrong\n",
      "\n",
      "First Astronaut on the moon\n",
      "\n",
      "Neil Armstrong\n",
      "\n"
     ]
    }
   ],
   "source": [
    "# Imprimimos el contenido de nuestra lista en consola\n",
    "print(textList)\n",
    "\n",
    "#Utilizamo un ciclo for para imprimirla de otra manera\n",
    "for line in textList:\n",
    "    print(line)"
   ]
  },
  {
   "cell_type": "code",
   "execution_count": 60,
   "metadata": {},
   "outputs": [
    {
     "name": "stdout",
     "output_type": "stream",
     "text": [
      "La primera lina es... First Astronaut on the moon\n",
      "\n",
      "La segunda línea es... Neil Armstrong\n",
      "\n"
     ]
    }
   ],
   "source": [
    "# Cuando tenemos nuestro contenido importado es posible importar una sola línea a partir del índice de la lista en la cuál está almacenada\n",
    "firstLine = textList[0]\n",
    "secondLine = textList[1]\n",
    "print(\"La primera lina es...\",firstLine)\n",
    "print(\"La segunda línea es...\", secondLine)"
   ]
  },
  {
   "attachments": {},
   "cell_type": "markdown",
   "metadata": {},
   "source": [
    "Uso de variables dentro de funciones"
   ]
  },
  {
   "cell_type": "code",
   "execution_count": 62,
   "metadata": {},
   "outputs": [
    {
     "name": "stdout",
     "output_type": "stream",
     "text": [
      "We will launch in two days\n"
     ]
    }
   ],
   "source": [
    "# Dentro de una función no es posible modificar una variable global, es decir, una variable declarada fuera de una función\n",
    "# Para eso es necesario declararla dentro de la función con la palabra 'global' antecediendola\n",
    "\n",
    "# La variable global\n",
    "rocketText = \"We will launch in\"\n",
    "\n",
    "def OutputRocketText():\n",
    "    # Dentro de la función OutPutRocketText() volvemos a definir la función rocketText\n",
    "    global rocketText\n",
    "    # Concatenamos una cadena extra de texto\n",
    "    rocketText = rocketText + \" two days\"\n",
    "    return\n",
    "\n",
    "OutputRocketText()\n",
    "print(rocketText) # Imprimimos el resultado fuera de la función"
   ]
  },
  {
   "cell_type": "code",
   "execution_count": 63,
   "metadata": {},
   "outputs": [
    {
     "name": "stdout",
     "output_type": "stream",
     "text": [
      "We will launch in two days\n"
     ]
    }
   ],
   "source": [
    "# También es posible modificar una variable global si la pasamos como parámetro de función\n",
    "# De ese modo no es necesario utilizar 'global'\n",
    "\n",
    "def OutputRocketText(textInput):\n",
    "    textInput = textInput + \" two days\"\n",
    "    return textInput\n",
    "\n",
    "rocketText = \"We will launch in\"\n",
    "# Le asignamos primero la la variable rocketText como parámetro a la función antes declarada\n",
    "#Luego es encapsulada en una nueva función\n",
    "newRocketText = OutputRocketText(rocketText)\n",
    "print(newRocketText)"
   ]
  }
 ],
 "metadata": {
  "kernelspec": {
   "display_name": "Python 3",
   "language": "python",
   "name": "python3"
  },
  "language_info": {
   "codemirror_mode": {
    "name": "ipython",
    "version": 3
   },
   "file_extension": ".py",
   "mimetype": "text/x-python",
   "name": "python",
   "nbconvert_exporter": "python",
   "pygments_lexer": "ipython3",
   "version": "3.10.10"
  },
  "orig_nbformat": 4
 },
 "nbformat": 4,
 "nbformat_minor": 2
}
